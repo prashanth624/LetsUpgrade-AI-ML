{
 "cells": [
  {
   "cell_type": "code",
   "execution_count": 1,
   "metadata": {},
   "outputs": [
    {
     "name": "stdout",
     "output_type": "stream",
     "text": [
      "Subtraction of two complex numbers  (3+4j) and (4+7j) is  (-1-3j)\n",
      "Subtraction of two complex numbers  (2+3j) and (3+4j) is  (-1-1j)\n"
     ]
    }
   ],
   "source": [
    "##Question 1 :\n",
    "##Write a program to subtract two complex numbers in Python\n",
    "\n",
    "##Answer\n",
    "\n",
    "## Method 1\n",
    "\n",
    "a = 3+4j\n",
    "b = 4+7j\n",
    "c = a-b\n",
    "print(\"Subtraction of two complex numbers \",a,\"and\",b,\"is \",c)\n",
    "\n",
    "## Method 2\n",
    "\n",
    "x = complex(2,3)\n",
    "y = complex(3,4)\n",
    "z = x-y\n",
    "print(\"Subtraction of two complex numbers \",x,\"and\",y,\"is \",z)"
   ]
  },
  {
   "cell_type": "code",
   "execution_count": 2,
   "metadata": {},
   "outputs": [
    {
     "name": "stdout",
     "output_type": "stream",
     "text": [
      "Enter a number: 16\n",
      "Fourth root of  16 is  2.0\n"
     ]
    }
   ],
   "source": [
    "##Question 2 :\n",
    "##Write a program to find the fourth root of a number\n",
    "\n",
    "# Answer is nth root of any number is power of 1/n\n",
    "\n",
    "x = int(input(\"Enter a number: \"))\n",
    "x_fourthroot = x**(1/4)\n",
    "print(\"Fourth root of \",x,\"is \",x_fourthroot)"
   ]
  },
  {
   "cell_type": "code",
   "execution_count": 3,
   "metadata": {},
   "outputs": [
    {
     "name": "stdout",
     "output_type": "stream",
     "text": [
      "Values before swapping is a = 10 b = 20\n",
      "Values after swapping is a = 20 b = 10\n",
      "\n",
      "\n",
      "Enter first number: 45\n",
      "Enter second number: 8765\n",
      "Values before swapping is x = 45 y = 8765\n",
      "Values after swapping is x = 8765 y = 45\n"
     ]
    }
   ],
   "source": [
    "##Question 3:\n",
    "##Write a program to swap two numbers in Python with the help of a temporary variable.\n",
    "\n",
    "#Method 1\n",
    "\n",
    "a = 10\n",
    "b = 20\n",
    "print(\"Values before swapping is a =\",a,\"b =\",b)\n",
    "\n",
    "## Swap numbers using temp variable\n",
    "temp = a\n",
    "a = b\n",
    "b = temp\n",
    "print(\"Values after swapping is a =\",a,\"b =\",b)\n",
    "\n",
    "print(\"\\n\")\n",
    "\n",
    "#Method 2 - Input given by user\n",
    "\n",
    "x = int(input(\"Enter first number: \"))\n",
    "y = int(input(\"Enter second number: \"))\n",
    "print(\"Values before swapping is x =\",x,\"y =\",y)\n",
    "\n",
    "## Swap numbers using temp variable\n",
    "temp = x # assigning value of x to temp\n",
    "x = y # assigning value of y to x\n",
    "y = temp #assigning value of temp(which is value of x) to y\n",
    "print(\"Values after swapping is x =\",x,\"y =\",y)"
   ]
  },
  {
   "cell_type": "code",
   "execution_count": 4,
   "metadata": {},
   "outputs": [
    {
     "name": "stdout",
     "output_type": "stream",
     "text": [
      "Values before swapping is a = 10 b = 20\n",
      "Values after swapping is a = 20 b = 10\n",
      "\n",
      "\n",
      "Enter first number: 2345\n",
      "Enter second number: 7654\n",
      "Values before swapping is x = 2345 y = 7654\n",
      "Values after swapping is x = 7654 y = 2345\n"
     ]
    }
   ],
   "source": [
    "##Question 4:\n",
    "##Write a program to swap two numbers in Python without using a temporary variable.\n",
    "\n",
    "#Method 1\n",
    "\n",
    "a = 10\n",
    "b = 20\n",
    "print(\"Values before swapping is a =\",a,\"b =\",b)\n",
    "\n",
    "## Swap numbers using temp variable\n",
    "a = a+b #10+20 = 30\n",
    "b = a-b #30-20 = 10\n",
    "a = a-b #30-10 = 20\n",
    "print(\"Values after swapping is a =\",a,\"b =\",b)\n",
    "\n",
    "print(\"\\n\")\n",
    "\n",
    "#Method 2 - Input given by user\n",
    "\n",
    "x = int(input(\"Enter first number: \"))\n",
    "y = int(input(\"Enter second number: \"))\n",
    "print(\"Values before swapping is x =\",x,\"y =\",y)\n",
    "\n",
    "## Swap numbers using temp variable\n",
    "x = x+y\n",
    "y = x-y\n",
    "x = x-y\n",
    "print(\"Values after swapping is x =\",x,\"y =\",y)"
   ]
  },
  {
   "cell_type": "code",
   "execution_count": 5,
   "metadata": {},
   "outputs": [
    {
     "name": "stdout",
     "output_type": "stream",
     "text": [
      "Enter the temperature in Fahrenheit: 76\n",
      "Temperature in Kelvin is:  297.94444444444446\n",
      "Temperature in Celsius is:  24.444444444444443\n"
     ]
    }
   ],
   "source": [
    "##Question 5:\n",
    "##Write a program to convert fahrenheit to kelvin and celsius both.\n",
    "\n",
    "Temp_Fahrenheit = int(input(\"Enter the temperature in Fahrenheit: \"))\n",
    "Temp_Kelvin = 273.5 + ((Temp_Fahrenheit - 32)*(5/9))\n",
    "Temp_Celsius = (Temp_Fahrenheit - 32)*5/9\n",
    "print(\"Temperature in Kelvin is: \",Temp_Kelvin)\n",
    "print(\"Temperature in Celsius is: \",Temp_Celsius)"
   ]
  },
  {
   "cell_type": "code",
   "execution_count": 6,
   "metadata": {},
   "outputs": [
    {
     "name": "stdout",
     "output_type": "stream",
     "text": [
      "<class 'int'>\n",
      "<class 'int'>\n",
      "<class 'float'>\n",
      "<class 'str'>\n",
      "<class 'complex'>\n",
      "<class 'bool'>\n",
      "<class 'list'>\n",
      "<class 'tuple'>\n",
      "<class 'set'>\n",
      "<class 'dict'>\n"
     ]
    }
   ],
   "source": [
    "##Question 6:\n",
    "##Write a program to demonstrate all the available data types in Python. Hint: Use type() function\n",
    "\n",
    "a = 17\n",
    "print(type(a))\n",
    "\n",
    "b = 98909890989\n",
    "print(type(b))\n",
    "\n",
    "c = 24567.79876\n",
    "print(type(c))\n",
    "\n",
    "d = \"Hello World!!\"\n",
    "print(type(d))\n",
    "\n",
    "e=5+89j\n",
    "print(type(e))\n",
    "\n",
    "f = True\n",
    "print(type(f))\n",
    "\n",
    "g = [1, 2, 3]\n",
    "print(type(g))\n",
    "\n",
    "h = (2, 3, 4)\n",
    "print(type(h))\n",
    "\n",
    "i = {1, 2}\n",
    "print(type(i))\n",
    "\n",
    "j = {'A':1,'B':2}\n",
    "print(type(j))"
   ]
  },
  {
   "cell_type": "markdown",
   "metadata": {},
   "source": [
    "## Question 7:\n",
    "\n",
    "__Create a Markdown cell in jupyter and list the steps discussed in the session by Dr. Darshan\n",
    "Ingle sir to create Github profile and upload Githubs Assignment link.__\n",
    "\n",
    "1. Register in the Github\n",
    "2. Create your profile\n",
    "3. Create a new public repository and name it as LetsUpgrade AI/ML\n",
    "4. Create a folder in the local machine for the corresponding day for assignment\n",
    "5. Once repository is created, click on uploading an existing file in the repository\n",
    "6. Drag and drop/browse the assignment folder and click on commit changes\n",
    "7. Click on the folder that is uploaded and copy the url where .ipynb files exists\n",
    "8. Navigate to Lets Upgrade  assignment site\n",
    "9. Enter the registered Email address, Name and phone number\n",
    "10. Select the assignment number (Day 1, Day 2,..)\n",
    "11. Paste the Github url which is copied\n",
    "12. To ensure, copied file is available to public, open the browser in incognito mode and paste the url and it should be visible\n",
    "13. Click on submit button in the Lets Upgrade assignment site once all details are entered\n",
    "14. Once assignment is submitted, mail gets triggered to the our email with the data that is submitted\n",
    "\n",
    "*Note: It is advised to submit the assignment in public mode so that Lets upgrade team can evaluate the assignments*\n",
    "\n"
   ]
  }
 ],
 "metadata": {
  "kernelspec": {
   "display_name": "Python 3",
   "language": "python",
   "name": "python3"
  },
  "language_info": {
   "codemirror_mode": {
    "name": "ipython",
    "version": 3
   },
   "file_extension": ".py",
   "mimetype": "text/x-python",
   "name": "python",
   "nbconvert_exporter": "python",
   "pygments_lexer": "ipython3",
   "version": "3.7.6"
  }
 },
 "nbformat": 4,
 "nbformat_minor": 4
}
