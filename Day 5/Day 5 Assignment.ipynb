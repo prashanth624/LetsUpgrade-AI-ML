{
 "cells": [
  {
   "cell_type": "markdown",
   "metadata": {},
   "source": [
    "# Assignment Day 5 | 10th July 2020"
   ]
  },
  {
   "cell_type": "markdown",
   "metadata": {},
   "source": [
    "**Question 1 :**\n",
    "\n",
    "Write a Python program to find the first 20 non-even prime natural numbers."
   ]
  },
  {
   "cell_type": "code",
   "execution_count": 4,
   "metadata": {},
   "outputs": [
    {
     "name": "stdout",
     "output_type": "stream",
     "text": [
      "First 20 non-even prime no's are:\n",
      "3 5 7 11 13 17 19 23 29 31 37 41 43 47 53 59 61 67 71 73 "
     ]
    }
   ],
   "source": [
    "val=3\n",
    "x=0\n",
    "print(\"First 20 non-even prime no's are:\")\n",
    "while True:\n",
    "    if x==20:\n",
    "        break \n",
    "    if val%2!=0 :\n",
    "        temp=1\n",
    "        for i in range(2,val-1):\n",
    "            if val%i==0:\n",
    "                temp=0\n",
    "                break\n",
    "        if temp==1:        \n",
    "            print(val, end=\" \")\n",
    "            x=x+1 \n",
    "    val=val+1"
   ]
  },
  {
   "cell_type": "markdown",
   "metadata": {},
   "source": [
    "**Question 2 :**\n",
    "Write a Python program to implement 15 functions of string."
   ]
  },
  {
   "cell_type": "code",
   "execution_count": 7,
   "metadata": {},
   "outputs": [
    {
     "name": "stdout",
     "output_type": "stream",
     "text": [
      "upper: PROGRAM TO IMPLEMENT 15 FUNCTIONS OF STRING!!\n",
      "lower: program to implement 15 functions of string!!\n",
      "swapcase: pROGRAM TO IMPLEment 15 FUNCTIONS OF STRING!!\n",
      "isnumaric: True\n",
      "capitalize: Program to implement 15 functions of string!!\n",
      "count of g in the string: 2\n",
      "zfill: 0000000034456876\n",
      "to find position of 15 in the string: 21\n",
      "index of 15 in the string: 21\n",
      "isalpha: False\n",
      "isalnum: True\n",
      "endswith !: True\n",
      "title: Program To Implement 15 Functions Of String!!\n",
      "replace: Program to impleMENT 15 functions of string****\n",
      "split: ['Program', 'to', 'impleMENT', '15', 'functions', 'of', 'string!!']\n"
     ]
    }
   ],
   "source": [
    "strng1=\"Program to impleMENT 15 functions of string!!\"\n",
    "strng2=\"34456876\"\n",
    "strng3=\"HelloWorld123456789987\"\n",
    "\n",
    "## upper function converts string to upper case\n",
    "print(\"upper:\",strng1.upper())\n",
    "## lower function converts string to upper case\n",
    "print(\"lower:\",strng1.lower())\n",
    "## swapcase function converts all uppercase to lowercase and vicevers\n",
    "print(\"swapcase:\",strng1.swapcase())\n",
    "## isnumeric returns boolean value accordingly if all characters in the string are numeric\n",
    "print(\"isnumaric:\",strng2.isnumeric())\n",
    "## capitalize converts the first character of a string to capital\n",
    "## If first char is captial then no change in the string\n",
    "print(\"capitalize:\",strng1.capitalize())\n",
    "## count function returns number of occurrences of substring in given string\n",
    "print(\"count of g in the string:\",strng1.count(\"g\"))\n",
    "##zfill() method adds zeros (0) at the beginning of the string, until it reaches the specified length. \n",
    "##If the value of the len parameter is less than the length of the string, no filling is done\n",
    "print(\"zfill:\",strng2.zfill(16)) \n",
    "## find function returns lowest index of the substring in given string\n",
    "print(\"to find position of 15 in the string:\",strng1.find(\"15\")) \n",
    "## index function searches for given element from start of the list and returns the lowest index \n",
    "print(\"index of 15 in the string:\",strng1.index(\"15\"))\n",
    "## isalpha returns boolean value if the string is having only alpha\n",
    "print(\"isalpha:\",strng1.isalpha())\n",
    "## isalnum returns true if all chars in the string are alphanumeric - no special characters\n",
    "print(\"isalnum:\",strng3.isalnum())\n",
    "## endswith function returns True if the string ends with the specified suffix\n",
    "print(\"endswith !:\",strng1.endswith('!'))\n",
    "## title function converts the first character in each word to Uppercase and remaining chars to Lowercase in string\n",
    "print(\"title:\",strng1.title())\n",
    "## replace function returns a copy of string where all occurrences of substring is replaced with another substring\n",
    "print(\"replace:\",strng1.replace('!','**'))\n",
    "## split function returns a list of strings after breaking the given string by the specified separator\n",
    "## default separator is space as below example\n",
    "print(\"split:\",strng1.split())"
   ]
  },
  {
   "cell_type": "markdown",
   "metadata": {},
   "source": [
    "**Question 3:**\n",
    "\n",
    "Write a Python program to check if the given string is a Palindrome or Anagram or None of them.\n",
    "Display the message accordingly to the user"
   ]
  },
  {
   "cell_type": "code",
   "execution_count": 11,
   "metadata": {},
   "outputs": [
    {
     "name": "stdout",
     "output_type": "stream",
     "text": [
      "Enter String 1: abcba\n",
      "Enter String 2: ababc\n",
      "strings abcba and ababc are Anagram\n",
      "String abcba is Palindrome\n",
      "String ababc is not a palindrome\n"
     ]
    }
   ],
   "source": [
    "str1 = str(input(\"Enter String 1: \"))\n",
    "str2 = str(input(\"Enter String 2: \"))\n",
    "\n",
    "def state():\n",
    "    if sorted(str1)==sorted(str2):\n",
    "        print(\"strings\",str1,\"and\",str2,\"are Anagram\")\n",
    "    if str1 == str1[::-1]:\n",
    "        print(\"String\",str1,\"is Palindrome\")\n",
    "    else:\n",
    "        print(\"String\",str1,\"is not a palindrome\")\n",
    "    if str2 == str2[::-1]:\n",
    "        print(\"String\",str2,\"is Palindrome\")\n",
    "    else:\n",
    "        print(\"String\",str2,\"is not a palindrome\")\n",
    "state()"
   ]
  },
  {
   "cell_type": "markdown",
   "metadata": {},
   "source": [
    "**Question 4:**\n",
    "\n",
    "Write a Python's user defined function that removes all the additional characters from the string\n",
    "and converts it finally to lower case using built-in lower(). eg: If the string is \"Dr. Darshan Ingle\n",
    "@AI-ML Trainer\", then the output be \"drdarshaningleaimltrainer\""
   ]
  },
  {
   "cell_type": "code",
   "execution_count": 16,
   "metadata": {},
   "outputs": [
    {
     "name": "stdout",
     "output_type": "stream",
     "text": [
      "Enter String: Dr. Darshan Ingle @AI-ML Trainer\n",
      "drdarshaningleaimltrainer\n"
     ]
    }
   ],
   "source": [
    "def removespecialchar_lowercase(str1):\n",
    "    result=\"\"\n",
    "    for i in str1:\n",
    "        if i.isalpha():\n",
    "            result=result+i\n",
    "    return result.lower()\n",
    "str1=input(\"Enter String: \")\n",
    "print(removespecialchar_lowercase(str1))"
   ]
  }
 ],
 "metadata": {
  "kernelspec": {
   "display_name": "Python 3",
   "language": "python",
   "name": "python3"
  },
  "language_info": {
   "codemirror_mode": {
    "name": "ipython",
    "version": 3
   },
   "file_extension": ".py",
   "mimetype": "text/x-python",
   "name": "python",
   "nbconvert_exporter": "python",
   "pygments_lexer": "ipython3",
   "version": "3.7.6"
  },
  "toc": {
   "base_numbering": 1,
   "nav_menu": {},
   "number_sections": true,
   "sideBar": true,
   "skip_h1_title": false,
   "title_cell": "Table of Contents",
   "title_sidebar": "Contents",
   "toc_cell": false,
   "toc_position": {},
   "toc_section_display": true,
   "toc_window_display": false
  }
 },
 "nbformat": 4,
 "nbformat_minor": 4
}
