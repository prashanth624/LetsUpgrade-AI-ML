{
 "cells": [
  {
   "cell_type": "markdown",
   "metadata": {},
   "source": [
    "# Assignment Day 4 | 9th July 2020\n",
    "\n",
    "**Question 1 :**\n",
    "\n",
    "Research on whether addition, subtraction, multiplication, division, floor division and modulo\n",
    "operations be performed on complex numbers. Based on your study, implement a Python\n",
    "program to demonstrate these operations"
   ]
  },
  {
   "cell_type": "code",
   "execution_count": 1,
   "metadata": {},
   "outputs": [
    {
     "name": "stdout",
     "output_type": "stream",
     "text": [
      "Below operations can be performed using complex numbers\n",
      "Addition = (5+7j)\n",
      "subtraction = (-1-1j)\n",
      "Multiplication = (-6+17j)\n",
      "Division= (0.72+0.04j)\n"
     ]
    }
   ],
   "source": [
    "a = 2+3j\n",
    "b = 3+4j\n",
    "\n",
    "print(\"Below operations can be performed using complex numbers\")\n",
    "print('Addition =',a+b)\n",
    "print('subtraction =',a-b)\n",
    "print('Multiplication =',a*b)\n",
    "print('Division=',a/b)"
   ]
  },
  {
   "cell_type": "code",
   "execution_count": 2,
   "metadata": {},
   "outputs": [
    {
     "ename": "TypeError",
     "evalue": "can't take floor of complex number.",
     "output_type": "error",
     "traceback": [
      "\u001b[1;31m---------------------------------------------------------------------------\u001b[0m",
      "\u001b[1;31mTypeError\u001b[0m                                 Traceback (most recent call last)",
      "\u001b[1;32m<ipython-input-2-3470e9f44f23>\u001b[0m in \u001b[0;36m<module>\u001b[1;34m\u001b[0m\n\u001b[0;32m      4\u001b[0m \u001b[1;31m## We are using able variables\u001b[0m\u001b[1;33m\u001b[0m\u001b[1;33m\u001b[0m\u001b[1;33m\u001b[0m\u001b[0m\n\u001b[0;32m      5\u001b[0m \u001b[1;33m\u001b[0m\u001b[0m\n\u001b[1;32m----> 6\u001b[1;33m \u001b[0mprint\u001b[0m\u001b[1;33m(\u001b[0m\u001b[1;34m\"Floor Division\"\u001b[0m\u001b[1;33m,\u001b[0m \u001b[0ma\u001b[0m\u001b[1;33m//\u001b[0m\u001b[0mb\u001b[0m\u001b[1;33m)\u001b[0m\u001b[1;33m\u001b[0m\u001b[1;33m\u001b[0m\u001b[0m\n\u001b[0m",
      "\u001b[1;31mTypeError\u001b[0m: can't take floor of complex number."
     ]
    }
   ],
   "source": [
    "## Floor division operator cannot be performed on complex numbers. \n",
    "##Below is the error we get when floor division is performed on complex number\n",
    "\n",
    "## We are using able variables\n",
    "\n",
    "print(\"Floor Division\", a//b)\n"
   ]
  },
  {
   "cell_type": "code",
   "execution_count": 3,
   "metadata": {},
   "outputs": [
    {
     "ename": "TypeError",
     "evalue": "can't mod complex numbers.",
     "output_type": "error",
     "traceback": [
      "\u001b[1;31m---------------------------------------------------------------------------\u001b[0m",
      "\u001b[1;31mTypeError\u001b[0m                                 Traceback (most recent call last)",
      "\u001b[1;32m<ipython-input-3-91df7a63e79e>\u001b[0m in \u001b[0;36m<module>\u001b[1;34m\u001b[0m\n\u001b[0;32m      4\u001b[0m \u001b[1;31m## We are using able variables\u001b[0m\u001b[1;33m\u001b[0m\u001b[1;33m\u001b[0m\u001b[1;33m\u001b[0m\u001b[0m\n\u001b[0;32m      5\u001b[0m \u001b[1;33m\u001b[0m\u001b[0m\n\u001b[1;32m----> 6\u001b[1;33m \u001b[0mprint\u001b[0m\u001b[1;33m(\u001b[0m\u001b[1;34m\"Modulo\"\u001b[0m\u001b[1;33m,\u001b[0m \u001b[0ma\u001b[0m\u001b[1;33m%\u001b[0m\u001b[0mb\u001b[0m\u001b[1;33m)\u001b[0m\u001b[1;33m\u001b[0m\u001b[1;33m\u001b[0m\u001b[0m\n\u001b[0m",
      "\u001b[1;31mTypeError\u001b[0m: can't mod complex numbers."
     ]
    }
   ],
   "source": [
    "## Modulo operator cannot be performed on complex numbers. \n",
    "##Below is the error we get when modulo is performed on complex number\n",
    "\n",
    "## We are using able variables\n",
    "\n",
    "print(\"Modulo\", a%b)\n"
   ]
  },
  {
   "cell_type": "markdown",
   "metadata": {},
   "source": [
    "**Question 2 :**\n",
    "\n",
    "Research on range() functions and its parameters. Create a markdown cell and write in your own\n",
    "words (no copy-paste from google please) what you understand about it. Implement a small\n",
    "program of your choice on the same"
   ]
  },
  {
   "cell_type": "markdown",
   "metadata": {},
   "source": [
    "**Answer**\n",
    "\n",
    "1. Range function returns a sequence of numbers for a defined number\n",
    "2. It consists of three parameters (start, stop and step)\n",
    "3. Stop is a mandatory parameter - Integer number specifying to stop at a particular position\n",
    "4. Start is optional paramenter - Specifies to start from a defined postion. Default is 0\n",
    "5. Step is again optional parameters to increment the value. Default is incremented by 1\n",
    "\n",
    "Below are few examples"
   ]
  },
  {
   "cell_type": "code",
   "execution_count": 4,
   "metadata": {},
   "outputs": [
    {
     "name": "stdout",
     "output_type": "stream",
     "text": [
      "<class 'range'>\n",
      "range(0, 10)\n"
     ]
    }
   ],
   "source": [
    "# Example with single parameter\n",
    "\n",
    "a = range(10)\n",
    "print(type(a))\n",
    "print(a)"
   ]
  },
  {
   "cell_type": "code",
   "execution_count": 5,
   "metadata": {},
   "outputs": [
    {
     "name": "stdout",
     "output_type": "stream",
     "text": [
      "Values in list: [0, 1, 2, 3, 4, 5, 6, 7, 8, 9]\n",
      "Values in tuple: (0, 1, 2, 3, 4, 5, 6, 7, 8, 9)\n",
      "Values in set: {0, 1, 2, 3, 4, 5, 6, 7, 8, 9}\n",
      "0\n",
      "1\n",
      "2\n",
      "3\n",
      "4\n",
      "5\n",
      "6\n",
      "7\n",
      "8\n",
      "9\n",
      "Value 10 is excluded since since values for range of 10 is from 0 to 9\n"
     ]
    }
   ],
   "source": [
    "a = range(10)\n",
    "print(\"Values in list:\",list(a))\n",
    "print(\"Values in tuple:\",tuple(a))\n",
    "print(\"Values in set:\",set(a))\n",
    "\n",
    "for i in a:\n",
    "    print(i)\n",
    "print(\"Value 10 is excluded since since values for range of 10 is from 0 to 9\")"
   ]
  },
  {
   "cell_type": "code",
   "execution_count": 8,
   "metadata": {},
   "outputs": [
    {
     "name": "stdout",
     "output_type": "stream",
     "text": [
      "Values in list a: [2, 3, 4, 5, 6]\n",
      "2\n",
      "3\n",
      "4\n",
      "5\n",
      "6\n"
     ]
    }
   ],
   "source": [
    "# Below example is the range of 7 which starts from 2\n",
    "\n",
    "a = range(2, 7)\n",
    "print(\"Values in list a:\",list(a))\n",
    "\n",
    "for i in a:\n",
    "    print(i)"
   ]
  },
  {
   "cell_type": "code",
   "execution_count": 9,
   "metadata": {},
   "outputs": [
    {
     "name": "stdout",
     "output_type": "stream",
     "text": [
      "Values in list a: [1, 3, 5, 7, 9]\n",
      "1\n",
      "3\n",
      "5\n",
      "7\n",
      "9\n"
     ]
    }
   ],
   "source": [
    "# Below example is the range of 10 which starts from 1 and incremented by 2\n",
    "# Start at 1, stop at 10 and increment by 2\n",
    "\n",
    "a = range(1, 10, 2)\n",
    "print(\"Values in list a:\",list(a))\n",
    "\n",
    "for i in a:\n",
    "    print(i)"
   ]
  },
  {
   "cell_type": "markdown",
   "metadata": {},
   "source": [
    "**Question 3:**\n",
    "\n",
    "Consider two numbers. Perform their subtraction and if the result of subtraction is greater than\n",
    "25, print their multiplication result else print their division result.\n"
   ]
  },
  {
   "cell_type": "code",
   "execution_count": 11,
   "metadata": {},
   "outputs": [
    {
     "name": "stdout",
     "output_type": "stream",
     "text": [
      "Enter first number: 150\n",
      "Enter first number: 100\n",
      "Multiplication Result is:  15000\n"
     ]
    }
   ],
   "source": [
    "a = int(input(\"Enter first number: \"))\n",
    "b = int(input(\"Enter first number: \"))\n",
    "result = a-b\n",
    "if result>25:\n",
    "    print(\"Multiplication Result is: \",a*b)\n",
    "else:\n",
    "    print(\"Division Result is: \",a/b)"
   ]
  },
  {
   "cell_type": "markdown",
   "metadata": {},
   "source": [
    "**Question 4:**\n",
    "\n",
    "Consider a list of 10 elements of integer values. If the number in the list is divisible by 2, print the\n",
    "result as \"square of that number minus 2\""
   ]
  },
  {
   "cell_type": "code",
   "execution_count": 12,
   "metadata": {},
   "outputs": [
    {
     "name": "stdout",
     "output_type": "stream",
     "text": [
      "square of 2 minus 2 is: 2\n",
      "square of 4 minus 2 is: 14\n",
      "square of 6 minus 2 is: 34\n",
      "square of 8 minus 2 is: 62\n",
      "square of 10 minus 2 is: 98\n"
     ]
    }
   ],
   "source": [
    "lst = [1, 2, 3, 4, 5, 6, 7, 8, 9, 10]\n",
    "for i in lst:\n",
    "    if i%2==0:\n",
    "        print(\"square of\",i,\"minus 2 is:\", i**2-2)"
   ]
  },
  {
   "cell_type": "markdown",
   "metadata": {},
   "source": [
    "**Question 5:**\n",
    "\n",
    "Consider a list of 10 elements. Print all the elements in the list which are greater than 7 when that\n",
    "number is divided 2."
   ]
  },
  {
   "cell_type": "code",
   "execution_count": 13,
   "metadata": {},
   "outputs": [
    {
     "name": "stdout",
     "output_type": "stream",
     "text": [
      "20 divided by 2 = 10.0 is greater than 7\n",
      "15 divided by 2 = 7.5 is greater than 7\n",
      "16 divided by 2 = 8.0 is greater than 7\n",
      "17 divided by 2 = 8.5 is greater than 7\n",
      "18 divided by 2 = 9.0 is greater than 7\n",
      "19 divided by 2 = 9.5 is greater than 7\n"
     ]
    }
   ],
   "source": [
    "lst = [10, 20, 13, 14, 15, 16, 17, 18, 19, 9]\n",
    "for i in lst:\n",
    "    if i/2>7:\n",
    "        print(i,\"divided by 2 =\",i/2,\"is greater than 7\")"
   ]
  }
 ],
 "metadata": {
  "kernelspec": {
   "display_name": "Python 3",
   "language": "python",
   "name": "python3"
  },
  "language_info": {
   "codemirror_mode": {
    "name": "ipython",
    "version": 3
   },
   "file_extension": ".py",
   "mimetype": "text/x-python",
   "name": "python",
   "nbconvert_exporter": "python",
   "pygments_lexer": "ipython3",
   "version": "3.7.6"
  },
  "toc": {
   "base_numbering": 1,
   "nav_menu": {},
   "number_sections": true,
   "sideBar": true,
   "skip_h1_title": false,
   "title_cell": "Table of Contents",
   "title_sidebar": "Contents",
   "toc_cell": false,
   "toc_position": {},
   "toc_section_display": true,
   "toc_window_display": false
  }
 },
 "nbformat": 4,
 "nbformat_minor": 4
}
